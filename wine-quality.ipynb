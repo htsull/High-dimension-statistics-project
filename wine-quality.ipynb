{
 "cells": [
  {
   "cell_type": "markdown",
   "metadata": {},
   "source": [
    "# Contents"
   ]
  },
  {
   "cell_type": "markdown",
   "metadata": {},
   "source": [
    "1. [**Summary**](sec1)\n",
    "1. [**System Setup**](#sec2)\n",
    "2. [**Exploratory Data Analysis**](#sec3)\n",
    "3. [**Logistic Regression**](#sec4)\n",
    "4. [**Lasso**](#sec5)\n",
    "5. [**Gradient Boosting**](#sec6)\n",
    "6. [**PCA**](#sec7)\n",
    "7. [**Findings**](#sec8)\n",
    "1. [**Sources**](#sec9)"
   ]
  },
  {
   "cell_type": "markdown",
   "metadata": {},
   "source": [
    "# 1. Summary <a id='sec1'></a>"
   ]
  },
  {
   "cell_type": "markdown",
   "metadata": {},
   "source": [
    "The problem we are approching in this report is to perform a dimension reduction on the `red wine` dataset and to build a model with the features selected. In this report we have as objective to find if the dimension reduction is a way to improve models performances. The idea is to use several techniques to select the most important features in order to build a prediction model. The solution we implemented is based on three techniques largely popular among the data science community to select features. In order to conclude on our work we proceed as the following :\n",
    "\n",
    "- We load and clean the dataset\n",
    "    - We verified and remove all the rows with missing values and outliers because that can introduce some noise in the data and hurt the performance of the model.\n",
    "    - We remove all duplicated rows in the dataset (24 in total).\n",
    "- We perform a base `logistic regression (logreg)` model as a benchmark in order to make the comparison between the diferents dimension reduction techniques that we'll use. `logreg` is specified, tuned and trained with all of the features (11 in our case) and the accuracy and AUC metrics were use to evaluate its performance.\n",
    "- We perform the dimension reduction using three methods : `Lasso regression (lasso)`, `Gradient bossting (GB)` and `Principal Component Analysis (PCA)` and with each methods we perform the same `logreg` on the features selected by these methods and make the comparison with the base `logreg` model in order to draw a conclusion as whether the reduction of features increase or decrease the performance of the model.\n",
    "- Given that the target distribution isn't balanced `(Bad : 86%, Good : 14%)`, the accuracy only isn't a reliable metric to evaluate the performance of the model. We decided to use a combination of the `accuracy`, the `area under the curve (AUC)` metrics and the `confusion matrix` to make this evaluation of performance.\n",
    "\n",
    "As results, we found that the three methods `(Lasso, Gradient Boosting, Principal Components Analysis)` that we used have the same power of prediction `(AUC = 0.89)` as the `base logistic model (logreg)` performed as a benchmark to compare the models performances. Given that we know about the distribution of the target `(quality)` we can easily say that in this case the differences between the three methods is more reflated in the accuracy metric and the confusion matrix (because they have the same power of prediction `AUC = 0.89`) so we have to break it down to have a better understanding of the matter :\n",
    "- For the Lasso method, the quality of the model is improved as the accuracy comparison proves it : `88.7% for logreg versus 89.5% for lasso`. The confusion matrix shows also that we have an `precision of 70%` in the prediction of the minority class. This method dropped the features : `('free sulfur dioxide'` and `'pH')`.\n",
    "- We can make the same conclusion as before for the Gradient Boosting (GB) strategy because the accuracy is improved : `88.7% for logreg versus 89.0% for GB` and this method dropped `'residual sugar'` and `pH`. As for the confusion matrix, we have seen that it presents a `precision of 65.5%` in predicting the minority class.\n",
    "- As for the Pricipal Components Analysis (PCA), the accuracy slightly dropped : `88.7% for logreg versus 88.5% for PCA`. We also conclude with this strategy specifies that nine components is enough to capture the essence of the information contained in the original dataset and this method  we have `60% precision` in the prediction of the minority class.\n",
    "\n",
    "So with all the results that we have, we can confidently conclude that the dimension reduction that have the benefit to reduce computing time is a great solution in order to improve the models performances. Even if in our case we are not really in high dimension data, these methods prove that they are great help in apraoching the dimension problem and reduce the complexity of the models.\n",
    "\n",
    "An interesting case that we have not explored and considered as a limit in this report is the difference between the `Lasso` and `GB` methods for the features dropped by them. An explaination for this difference is a case to explore in perpective to be more accurate in the understanding of these methods for features selection in dimension reduction."
   ]
  },
  {
   "cell_type": "markdown",
   "metadata": {},
   "source": [
    "# 2. System Setup <a id = 'sec2'></a>"
   ]
  },
  {
   "cell_type": "code",
   "execution_count": 1,
   "metadata": {},
   "outputs": [],
   "source": [
    "\n",
    "import pandas as pd\n",
    "import numpy as np\n",
    "from numpy import array\n",
    "import matplotlib.pyplot as plt\n",
    "import seaborn as sns\n",
    "%matplotlib inline\n",
    "\n",
    "from sklearn.model_selection import train_test_split, GridSearchCV, cross_val_score\n",
    "from sklearn.linear_model import Lasso, LogisticRegression\n",
    "from sklearn.ensemble import GradientBoostingClassifier\n",
    "from sklearn.feature_selection import RFECV\n",
    "from sklearn.decomposition import PCA\n",
    "from sklearn.metrics import roc_auc_score, plot_confusion_matrix, classification_report, plot_roc_curve\n",
    "from sklearn.preprocessing import StandardScaler\n",
    "from IPython.display import display\n",
    "import warnings \n",
    "warnings.filterwarnings(\"ignore\", category=FutureWarning)\n",
    "from sklearn.pipeline import Pipeline\n"
   ]
  },
  {
   "cell_type": "markdown",
   "metadata": {},
   "source": [
    "# 3. Exploratory Data Analysis <a id = 'sec3'></a>"
   ]
  },
  {
   "cell_type": "code",
   "execution_count": 3,
   "metadata": {},
   "outputs": [],
   "source": [
    "# Data reading\n",
    "red_wine = pd.read_csv(\"data/winequality-red.csv\", sep=';', delimiter=None, header='infer', names=None, index_col=None, \n",
    "                          usecols=None)"
   ]
  },
  {
   "cell_type": "code",
   "execution_count": 4,
   "metadata": {},
   "outputs": [
    {
     "data": {
      "text/html": [
       "<div>\n",
       "<style scoped>\n",
       "    .dataframe tbody tr th:only-of-type {\n",
       "        vertical-align: middle;\n",
       "    }\n",
       "\n",
       "    .dataframe tbody tr th {\n",
       "        vertical-align: top;\n",
       "    }\n",
       "\n",
       "    .dataframe thead th {\n",
       "        text-align: right;\n",
       "    }\n",
       "</style>\n",
       "<table border=\"1\" class=\"dataframe\">\n",
       "  <thead>\n",
       "    <tr style=\"text-align: right;\">\n",
       "      <th></th>\n",
       "      <th>fixed acidity</th>\n",
       "      <th>volatile acidity</th>\n",
       "      <th>citric acid</th>\n",
       "      <th>residual sugar</th>\n",
       "      <th>chlorides</th>\n",
       "      <th>free sulfur dioxide</th>\n",
       "      <th>total sulfur dioxide</th>\n",
       "      <th>density</th>\n",
       "      <th>pH</th>\n",
       "      <th>sulphates</th>\n",
       "      <th>alcohol</th>\n",
       "      <th>quality</th>\n",
       "    </tr>\n",
       "  </thead>\n",
       "  <tbody>\n",
       "    <tr>\n",
       "      <th>0</th>\n",
       "      <td>7.4</td>\n",
       "      <td>0.70</td>\n",
       "      <td>0.00</td>\n",
       "      <td>1.9</td>\n",
       "      <td>0.076</td>\n",
       "      <td>11.0</td>\n",
       "      <td>34.0</td>\n",
       "      <td>0.9978</td>\n",
       "      <td>3.51</td>\n",
       "      <td>0.56</td>\n",
       "      <td>9.4</td>\n",
       "      <td>5</td>\n",
       "    </tr>\n",
       "    <tr>\n",
       "      <th>1</th>\n",
       "      <td>7.8</td>\n",
       "      <td>0.88</td>\n",
       "      <td>0.00</td>\n",
       "      <td>2.6</td>\n",
       "      <td>0.098</td>\n",
       "      <td>25.0</td>\n",
       "      <td>67.0</td>\n",
       "      <td>0.9968</td>\n",
       "      <td>3.20</td>\n",
       "      <td>0.68</td>\n",
       "      <td>9.8</td>\n",
       "      <td>5</td>\n",
       "    </tr>\n",
       "    <tr>\n",
       "      <th>2</th>\n",
       "      <td>7.8</td>\n",
       "      <td>0.76</td>\n",
       "      <td>0.04</td>\n",
       "      <td>2.3</td>\n",
       "      <td>0.092</td>\n",
       "      <td>15.0</td>\n",
       "      <td>54.0</td>\n",
       "      <td>0.9970</td>\n",
       "      <td>3.26</td>\n",
       "      <td>0.65</td>\n",
       "      <td>9.8</td>\n",
       "      <td>5</td>\n",
       "    </tr>\n",
       "    <tr>\n",
       "      <th>3</th>\n",
       "      <td>11.2</td>\n",
       "      <td>0.28</td>\n",
       "      <td>0.56</td>\n",
       "      <td>1.9</td>\n",
       "      <td>0.075</td>\n",
       "      <td>17.0</td>\n",
       "      <td>60.0</td>\n",
       "      <td>0.9980</td>\n",
       "      <td>3.16</td>\n",
       "      <td>0.58</td>\n",
       "      <td>9.8</td>\n",
       "      <td>6</td>\n",
       "    </tr>\n",
       "    <tr>\n",
       "      <th>4</th>\n",
       "      <td>7.4</td>\n",
       "      <td>0.70</td>\n",
       "      <td>0.00</td>\n",
       "      <td>1.9</td>\n",
       "      <td>0.076</td>\n",
       "      <td>11.0</td>\n",
       "      <td>34.0</td>\n",
       "      <td>0.9978</td>\n",
       "      <td>3.51</td>\n",
       "      <td>0.56</td>\n",
       "      <td>9.4</td>\n",
       "      <td>5</td>\n",
       "    </tr>\n",
       "  </tbody>\n",
       "</table>\n",
       "</div>"
      ],
      "text/plain": [
       "   fixed acidity  volatile acidity  citric acid  residual sugar  chlorides  \\\n",
       "0            7.4              0.70         0.00             1.9      0.076   \n",
       "1            7.8              0.88         0.00             2.6      0.098   \n",
       "2            7.8              0.76         0.04             2.3      0.092   \n",
       "3           11.2              0.28         0.56             1.9      0.075   \n",
       "4            7.4              0.70         0.00             1.9      0.076   \n",
       "\n",
       "   free sulfur dioxide  total sulfur dioxide  density    pH  sulphates  \\\n",
       "0                 11.0                  34.0   0.9978  3.51       0.56   \n",
       "1                 25.0                  67.0   0.9968  3.20       0.68   \n",
       "2                 15.0                  54.0   0.9970  3.26       0.65   \n",
       "3                 17.0                  60.0   0.9980  3.16       0.58   \n",
       "4                 11.0                  34.0   0.9978  3.51       0.56   \n",
       "\n",
       "   alcohol  quality  \n",
       "0      9.4        5  \n",
       "1      9.8        5  \n",
       "2      9.8        5  \n",
       "3      9.8        6  \n",
       "4      9.4        5  "
      ]
     },
     "metadata": {},
     "output_type": "display_data"
    },
    {
     "name": "stdout",
     "output_type": "stream",
     "text": [
      "Missing values : 0 \n",
      "Dataset dimension : (1599, 12)\n"
     ]
    }
   ],
   "source": [
    "display(red_wine.head())\n",
    "print(\"Missing values :\", red_wine.isna().sum().sum(), \"\\nDataset dimension :\", red_wine.shape)"
   ]
  },
  {
   "cell_type": "code",
   "execution_count": 5,
   "metadata": {},
   "outputs": [
    {
     "name": "stdout",
     "output_type": "stream",
     "text": [
      "Number of numerical variables  :  12\n",
      "====================================================================================================\n",
      "Numerical Variables Columns : \n",
      " ['fixed acidity', 'volatile acidity', 'citric acid', 'residual sugar', 'chlorides', 'free sulfur dioxide', 'total sulfur dioxide', 'density', 'pH', 'sulphates', 'alcohol', 'quality']\n",
      "====================================================================================================\n"
     ]
    }
   ],
   "source": [
    "numerics = ['int16', 'int32', 'int64', 'float16', 'float32', 'float64']\n",
    "numerical_vars = list(red_wine.select_dtypes(include=numerics).columns)\n",
    "print('Number of numerical variables  : ', len(numerical_vars))\n",
    "print('='*100)\n",
    "data = red_wine[numerical_vars]\n",
    "print('Numerical Variables Columns : \\n',numerical_vars)\n",
    "print('='*100)"
   ]
  },
  {
   "cell_type": "code",
   "execution_count": 7,
   "metadata": {},
   "outputs": [
    {
     "name": "stdout",
     "output_type": "stream",
     "text": [
      "<class 'pandas.core.frame.DataFrame'>\n",
      "RangeIndex: 1599 entries, 0 to 1598\n",
      "Data columns (total 12 columns):\n",
      " #   Column                Non-Null Count  Dtype  \n",
      "---  ------                --------------  -----  \n",
      " 0   fixed acidity         1599 non-null   float64\n",
      " 1   volatile acidity      1599 non-null   float64\n",
      " 2   citric acid           1599 non-null   float64\n",
      " 3   residual sugar        1599 non-null   float64\n",
      " 4   chlorides             1599 non-null   float64\n",
      " 5   free sulfur dioxide   1599 non-null   float64\n",
      " 6   total sulfur dioxide  1599 non-null   float64\n",
      " 7   density               1599 non-null   float64\n",
      " 8   pH                    1599 non-null   float64\n",
      " 9   sulphates             1599 non-null   float64\n",
      " 10  alcohol               1599 non-null   float64\n",
      " 11  quality               1599 non-null   int64  \n",
      "dtypes: float64(11), int64(1)\n",
      "memory usage: 150.0 KB\n"
     ]
    }
   ],
   "source": [
    "red_wine.info()"
   ]
  },
  {
   "cell_type": "code",
   "execution_count": 8,
   "metadata": {},
   "outputs": [
    {
     "name": "stdout",
     "output_type": "stream",
     "text": [
      "Numbers of duplicated rows : 240\n"
     ]
    }
   ],
   "source": [
    "print('Numbers of duplicated rows : {}'.format(red_wine.duplicated().sum()))\n",
    "#Removing all the duplicated records\n",
    "red_wine.drop_duplicates(inplace=True)"
   ]
  },
  {
   "cell_type": "code",
   "execution_count": 10,
   "metadata": {},
   "outputs": [
    {
     "data": {
      "image/png": "[encoded data removed]",
      "text/plain": [
       "<Figure size 432x288 with 1 Axes>"
      ]
     },
     "metadata": {
      "needs_background": "light"
     },
     "output_type": "display_data"
    }
   ],
   "source": [
    "sns.boxplot(x=red_wine['residual sugar']);"
   ]
  },
  {
   "cell_type": "code",
   "execution_count": 11,
   "metadata": {},
   "outputs": [
    {
     "data": {
      "image/png": "[encoded data removed]",
      "text/plain": [
       "<Figure size 432x288 with 1 Axes>"
      ]
     },
     "metadata": {
      "needs_background": "light"
     },
     "output_type": "display_data"
    }
   ],
   "source": [
    "sns.distplot(red_wine['residual sugar']);"
   ]
  },
  {
   "cell_type": "markdown",
   "metadata": {},
   "source": [
    "Comment : The last two figures proves that the dataset contains outliers and we have to handle them in order to continue."
   ]
  },
  {
   "cell_type": "code",
   "execution_count": 12,
   "metadata": {},
   "outputs": [],
   "source": [
    "def outliers(df): \n",
    "    numerics = ['int16', 'int32', 'int64', 'float16', 'float32', 'float64']\n",
    "    numerical_vars = list(df.select_dtypes(include=numerics).columns)\n",
    "    ff= df.columns\n",
    "    for i in  numerical_vars :\n",
    "        Q1=df[i].quantile(0.25)\n",
    "        Q3=df[i].quantile(0.75)\n",
    "        IQR = Q3 - Q1\n",
    "        lower_lim = Q1 - 1.5*IQR\n",
    "        upper_lim = Q3 - 1.5*IQR\n",
    "        outlier_low = (df[i] < lower_lim)\n",
    "        outlier_up =(df[i]> upper_lim)\n",
    "        no_out= df[(outlier_low |outlier_up )]\n",
    "    return  no_out"
   ]
  },
  {
   "cell_type": "code",
   "execution_count": 13,
   "metadata": {},
   "outputs": [
    {
     "data": {
      "text/html": [
       "<div>\n",
       "<style scoped>\n",
       "    .dataframe tbody tr th:only-of-type {\n",
       "        vertical-align: middle;\n",
       "    }\n",
       "\n",
       "    .dataframe tbody tr th {\n",
       "        vertical-align: top;\n",
       "    }\n",
       "\n",
       "    .dataframe thead th {\n",
       "        text-align: right;\n",
       "    }\n",
       "</style>\n",
       "<table border=\"1\" class=\"dataframe\">\n",
       "  <thead>\n",
       "    <tr style=\"text-align: right;\">\n",
       "      <th></th>\n",
       "      <th>fixed acidity</th>\n",
       "      <th>volatile acidity</th>\n",
       "      <th>citric acid</th>\n",
       "      <th>residual sugar</th>\n",
       "      <th>chlorides</th>\n",
       "      <th>free sulfur dioxide</th>\n",
       "      <th>total sulfur dioxide</th>\n",
       "      <th>density</th>\n",
       "      <th>pH</th>\n",
       "      <th>sulphates</th>\n",
       "      <th>alcohol</th>\n",
       "      <th>quality</th>\n",
       "    </tr>\n",
       "  </thead>\n",
       "  <tbody>\n",
       "    <tr>\n",
       "      <th>0</th>\n",
       "      <td>7.4</td>\n",
       "      <td>0.700</td>\n",
       "      <td>0.00</td>\n",
       "      <td>1.9</td>\n",
       "      <td>0.076</td>\n",
       "      <td>11.0</td>\n",
       "      <td>34.0</td>\n",
       "      <td>0.99780</td>\n",
       "      <td>3.51</td>\n",
       "      <td>0.56</td>\n",
       "      <td>9.4</td>\n",
       "      <td>5</td>\n",
       "    </tr>\n",
       "    <tr>\n",
       "      <th>1</th>\n",
       "      <td>7.8</td>\n",
       "      <td>0.880</td>\n",
       "      <td>0.00</td>\n",
       "      <td>2.6</td>\n",
       "      <td>0.098</td>\n",
       "      <td>25.0</td>\n",
       "      <td>67.0</td>\n",
       "      <td>0.99680</td>\n",
       "      <td>3.20</td>\n",
       "      <td>0.68</td>\n",
       "      <td>9.8</td>\n",
       "      <td>5</td>\n",
       "    </tr>\n",
       "    <tr>\n",
       "      <th>2</th>\n",
       "      <td>7.8</td>\n",
       "      <td>0.760</td>\n",
       "      <td>0.04</td>\n",
       "      <td>2.3</td>\n",
       "      <td>0.092</td>\n",
       "      <td>15.0</td>\n",
       "      <td>54.0</td>\n",
       "      <td>0.99700</td>\n",
       "      <td>3.26</td>\n",
       "      <td>0.65</td>\n",
       "      <td>9.8</td>\n",
       "      <td>5</td>\n",
       "    </tr>\n",
       "    <tr>\n",
       "      <th>3</th>\n",
       "      <td>11.2</td>\n",
       "      <td>0.280</td>\n",
       "      <td>0.56</td>\n",
       "      <td>1.9</td>\n",
       "      <td>0.075</td>\n",
       "      <td>17.0</td>\n",
       "      <td>60.0</td>\n",
       "      <td>0.99800</td>\n",
       "      <td>3.16</td>\n",
       "      <td>0.58</td>\n",
       "      <td>9.8</td>\n",
       "      <td>6</td>\n",
       "    </tr>\n",
       "    <tr>\n",
       "      <th>5</th>\n",
       "      <td>7.4</td>\n",
       "      <td>0.660</td>\n",
       "      <td>0.00</td>\n",
       "      <td>1.8</td>\n",
       "      <td>0.075</td>\n",
       "      <td>13.0</td>\n",
       "      <td>40.0</td>\n",
       "      <td>0.99780</td>\n",
       "      <td>3.51</td>\n",
       "      <td>0.56</td>\n",
       "      <td>9.4</td>\n",
       "      <td>5</td>\n",
       "    </tr>\n",
       "    <tr>\n",
       "      <th>...</th>\n",
       "      <td>...</td>\n",
       "      <td>...</td>\n",
       "      <td>...</td>\n",
       "      <td>...</td>\n",
       "      <td>...</td>\n",
       "      <td>...</td>\n",
       "      <td>...</td>\n",
       "      <td>...</td>\n",
       "      <td>...</td>\n",
       "      <td>...</td>\n",
       "      <td>...</td>\n",
       "      <td>...</td>\n",
       "    </tr>\n",
       "    <tr>\n",
       "      <th>1593</th>\n",
       "      <td>6.8</td>\n",
       "      <td>0.620</td>\n",
       "      <td>0.08</td>\n",
       "      <td>1.9</td>\n",
       "      <td>0.068</td>\n",
       "      <td>28.0</td>\n",
       "      <td>38.0</td>\n",
       "      <td>0.99651</td>\n",
       "      <td>3.42</td>\n",
       "      <td>0.82</td>\n",
       "      <td>9.5</td>\n",
       "      <td>6</td>\n",
       "    </tr>\n",
       "    <tr>\n",
       "      <th>1594</th>\n",
       "      <td>6.2</td>\n",
       "      <td>0.600</td>\n",
       "      <td>0.08</td>\n",
       "      <td>2.0</td>\n",
       "      <td>0.090</td>\n",
       "      <td>32.0</td>\n",
       "      <td>44.0</td>\n",
       "      <td>0.99490</td>\n",
       "      <td>3.45</td>\n",
       "      <td>0.58</td>\n",
       "      <td>10.5</td>\n",
       "      <td>5</td>\n",
       "    </tr>\n",
       "    <tr>\n",
       "      <th>1595</th>\n",
       "      <td>5.9</td>\n",
       "      <td>0.550</td>\n",
       "      <td>0.10</td>\n",
       "      <td>2.2</td>\n",
       "      <td>0.062</td>\n",
       "      <td>39.0</td>\n",
       "      <td>51.0</td>\n",
       "      <td>0.99512</td>\n",
       "      <td>3.52</td>\n",
       "      <td>0.76</td>\n",
       "      <td>11.2</td>\n",
       "      <td>6</td>\n",
       "    </tr>\n",
       "    <tr>\n",
       "      <th>1597</th>\n",
       "      <td>5.9</td>\n",
       "      <td>0.645</td>\n",
       "      <td>0.12</td>\n",
       "      <td>2.0</td>\n",
       "      <td>0.075</td>\n",
       "      <td>32.0</td>\n",
       "      <td>44.0</td>\n",
       "      <td>0.99547</td>\n",
       "      <td>3.57</td>\n",
       "      <td>0.71</td>\n",
       "      <td>10.2</td>\n",
       "      <td>5</td>\n",
       "    </tr>\n",
       "    <tr>\n",
       "      <th>1598</th>\n",
       "      <td>6.0</td>\n",
       "      <td>0.310</td>\n",
       "      <td>0.47</td>\n",
       "      <td>3.6</td>\n",
       "      <td>0.067</td>\n",
       "      <td>18.0</td>\n",
       "      <td>42.0</td>\n",
       "      <td>0.99549</td>\n",
       "      <td>3.39</td>\n",
       "      <td>0.66</td>\n",
       "      <td>11.0</td>\n",
       "      <td>6</td>\n",
       "    </tr>\n",
       "  </tbody>\n",
       "</table>\n",
       "<p>1306 rows × 12 columns</p>\n",
       "</div>"
      ],
      "text/plain": [
       "      fixed acidity  volatile acidity  citric acid  residual sugar  chlorides  \\\n",
       "0               7.4             0.700         0.00             1.9      0.076   \n",
       "1               7.8             0.880         0.00             2.6      0.098   \n",
       "2               7.8             0.760         0.04             2.3      0.092   \n",
       "3              11.2             0.280         0.56             1.9      0.075   \n",
       "5               7.4             0.660         0.00             1.8      0.075   \n",
       "...             ...               ...          ...             ...        ...   \n",
       "1593            6.8             0.620         0.08             1.9      0.068   \n",
       "1594            6.2             0.600         0.08             2.0      0.090   \n",
       "1595            5.9             0.550         0.10             2.2      0.062   \n",
       "1597            5.9             0.645         0.12             2.0      0.075   \n",
       "1598            6.0             0.310         0.47             3.6      0.067   \n",
       "\n",
       "      free sulfur dioxide  total sulfur dioxide  density    pH  sulphates  \\\n",
       "0                    11.0                  34.0  0.99780  3.51       0.56   \n",
       "1                    25.0                  67.0  0.99680  3.20       0.68   \n",
       "2                    15.0                  54.0  0.99700  3.26       0.65   \n",
       "3                    17.0                  60.0  0.99800  3.16       0.58   \n",
       "5                    13.0                  40.0  0.99780  3.51       0.56   \n",
       "...                   ...                   ...      ...   ...        ...   \n",
       "1593                 28.0                  38.0  0.99651  3.42       0.82   \n",
       "1594                 32.0                  44.0  0.99490  3.45       0.58   \n",
       "1595                 39.0                  51.0  0.99512  3.52       0.76   \n",
       "1597                 32.0                  44.0  0.99547  3.57       0.71   \n",
       "1598                 18.0                  42.0  0.99549  3.39       0.66   \n",
       "\n",
       "      alcohol  quality  \n",
       "0         9.4        5  \n",
       "1         9.8        5  \n",
       "2         9.8        5  \n",
       "3         9.8        6  \n",
       "5         9.4        5  \n",
       "...       ...      ...  \n",
       "1593      9.5        6  \n",
       "1594     10.5        5  \n",
       "1595     11.2        6  \n",
       "1597     10.2        5  \n",
       "1598     11.0        6  \n",
       "\n",
       "[1306 rows x 12 columns]"
      ]
     },
     "execution_count": 13,
     "metadata": {},
     "output_type": "execute_result"
    }
   ],
   "source": [
    "outliers(red_wine)"
   ]
  },
  {
   "cell_type": "code",
   "execution_count": 14,
   "metadata": {},
   "outputs": [
    {
     "data": {
      "text/html": [
       "<div>\n",
       "<style scoped>\n",
       "    .dataframe tbody tr th:only-of-type {\n",
       "        vertical-align: middle;\n",
       "    }\n",
       "\n",
       "    .dataframe tbody tr th {\n",
       "        vertical-align: top;\n",
       "    }\n",
       "\n",
       "    .dataframe thead th {\n",
       "        text-align: right;\n",
       "    }\n",
       "</style>\n",
       "<table border=\"1\" class=\"dataframe\">\n",
       "  <thead>\n",
       "    <tr style=\"text-align: right;\">\n",
       "      <th></th>\n",
       "      <th>count</th>\n",
       "      <th>mean</th>\n",
       "      <th>std</th>\n",
       "      <th>min</th>\n",
       "      <th>25%</th>\n",
       "      <th>50%</th>\n",
       "      <th>75%</th>\n",
       "      <th>max</th>\n",
       "    </tr>\n",
       "  </thead>\n",
       "  <tbody>\n",
       "    <tr>\n",
       "      <th>fixed acidity</th>\n",
       "      <td>1359.0</td>\n",
       "      <td>8.31</td>\n",
       "      <td>1.74</td>\n",
       "      <td>4.60</td>\n",
       "      <td>7.10</td>\n",
       "      <td>7.90</td>\n",
       "      <td>9.20</td>\n",
       "      <td>15.90</td>\n",
       "    </tr>\n",
       "    <tr>\n",
       "      <th>volatile acidity</th>\n",
       "      <td>1359.0</td>\n",
       "      <td>0.53</td>\n",
       "      <td>0.18</td>\n",
       "      <td>0.12</td>\n",
       "      <td>0.39</td>\n",
       "      <td>0.52</td>\n",
       "      <td>0.64</td>\n",
       "      <td>1.58</td>\n",
       "    </tr>\n",
       "    <tr>\n",
       "      <th>citric acid</th>\n",
       "      <td>1359.0</td>\n",
       "      <td>0.27</td>\n",
       "      <td>0.20</td>\n",
       "      <td>0.00</td>\n",
       "      <td>0.09</td>\n",
       "      <td>0.26</td>\n",
       "      <td>0.43</td>\n",
       "      <td>1.00</td>\n",
       "    </tr>\n",
       "    <tr>\n",
       "      <th>residual sugar</th>\n",
       "      <td>1359.0</td>\n",
       "      <td>2.52</td>\n",
       "      <td>1.35</td>\n",
       "      <td>0.90</td>\n",
       "      <td>1.90</td>\n",
       "      <td>2.20</td>\n",
       "      <td>2.60</td>\n",
       "      <td>15.50</td>\n",
       "    </tr>\n",
       "    <tr>\n",
       "      <th>chlorides</th>\n",
       "      <td>1359.0</td>\n",
       "      <td>0.09</td>\n",
       "      <td>0.05</td>\n",
       "      <td>0.01</td>\n",
       "      <td>0.07</td>\n",
       "      <td>0.08</td>\n",
       "      <td>0.09</td>\n",
       "      <td>0.61</td>\n",
       "    </tr>\n",
       "    <tr>\n",
       "      <th>free sulfur dioxide</th>\n",
       "      <td>1359.0</td>\n",
       "      <td>15.89</td>\n",
       "      <td>10.45</td>\n",
       "      <td>1.00</td>\n",
       "      <td>7.00</td>\n",
       "      <td>14.00</td>\n",
       "      <td>21.00</td>\n",
       "      <td>72.00</td>\n",
       "    </tr>\n",
       "    <tr>\n",
       "      <th>total sulfur dioxide</th>\n",
       "      <td>1359.0</td>\n",
       "      <td>46.83</td>\n",
       "      <td>33.41</td>\n",
       "      <td>6.00</td>\n",
       "      <td>22.00</td>\n",
       "      <td>38.00</td>\n",
       "      <td>63.00</td>\n",
       "      <td>289.00</td>\n",
       "    </tr>\n",
       "    <tr>\n",
       "      <th>density</th>\n",
       "      <td>1359.0</td>\n",
       "      <td>1.00</td>\n",
       "      <td>0.00</td>\n",
       "      <td>0.99</td>\n",
       "      <td>1.00</td>\n",
       "      <td>1.00</td>\n",
       "      <td>1.00</td>\n",
       "      <td>1.00</td>\n",
       "    </tr>\n",
       "    <tr>\n",
       "      <th>pH</th>\n",
       "      <td>1359.0</td>\n",
       "      <td>3.31</td>\n",
       "      <td>0.16</td>\n",
       "      <td>2.74</td>\n",
       "      <td>3.21</td>\n",
       "      <td>3.31</td>\n",
       "      <td>3.40</td>\n",
       "      <td>4.01</td>\n",
       "    </tr>\n",
       "    <tr>\n",
       "      <th>sulphates</th>\n",
       "      <td>1359.0</td>\n",
       "      <td>0.66</td>\n",
       "      <td>0.17</td>\n",
       "      <td>0.33</td>\n",
       "      <td>0.55</td>\n",
       "      <td>0.62</td>\n",
       "      <td>0.73</td>\n",
       "      <td>2.00</td>\n",
       "    </tr>\n",
       "    <tr>\n",
       "      <th>alcohol</th>\n",
       "      <td>1359.0</td>\n",
       "      <td>10.43</td>\n",
       "      <td>1.08</td>\n",
       "      <td>8.40</td>\n",
       "      <td>9.50</td>\n",
       "      <td>10.20</td>\n",
       "      <td>11.10</td>\n",
       "      <td>14.90</td>\n",
       "    </tr>\n",
       "    <tr>\n",
       "      <th>quality</th>\n",
       "      <td>1359.0</td>\n",
       "      <td>5.62</td>\n",
       "      <td>0.82</td>\n",
       "      <td>3.00</td>\n",
       "      <td>5.00</td>\n",
       "      <td>6.00</td>\n",
       "      <td>6.00</td>\n",
       "      <td>8.00</td>\n",
       "    </tr>\n",
       "  </tbody>\n",
       "</table>\n",
       "</div>"
      ],
      "text/plain": [
       "                       count   mean    std   min    25%    50%    75%     max\n",
       "fixed acidity         1359.0   8.31   1.74  4.60   7.10   7.90   9.20   15.90\n",
       "volatile acidity      1359.0   0.53   0.18  0.12   0.39   0.52   0.64    1.58\n",
       "citric acid           1359.0   0.27   0.20  0.00   0.09   0.26   0.43    1.00\n",
       "residual sugar        1359.0   2.52   1.35  0.90   1.90   2.20   2.60   15.50\n",
       "chlorides             1359.0   0.09   0.05  0.01   0.07   0.08   0.09    0.61\n",
       "free sulfur dioxide   1359.0  15.89  10.45  1.00   7.00  14.00  21.00   72.00\n",
       "total sulfur dioxide  1359.0  46.83  33.41  6.00  22.00  38.00  63.00  289.00\n",
       "density               1359.0   1.00   0.00  0.99   1.00   1.00   1.00    1.00\n",
       "pH                    1359.0   3.31   0.16  2.74   3.21   3.31   3.40    4.01\n",
       "sulphates             1359.0   0.66   0.17  0.33   0.55   0.62   0.73    2.00\n",
       "alcohol               1359.0  10.43   1.08  8.40   9.50  10.20  11.10   14.90\n",
       "quality               1359.0   5.62   0.82  3.00   5.00   6.00   6.00    8.00"
      ]
     },
     "execution_count": 14,
     "metadata": {},
     "output_type": "execute_result"
    }
   ],
   "source": [
    "round(red_wine.describe(exclude = 'object'), 2).T"
   ]
  },
  {
   "cell_type": "code",
   "execution_count": 15,
   "metadata": {},
   "outputs": [
    {
     "data": {
      "image/png": "[encoded data removed]",
      "text/plain": [
       "<Figure size 1080x432 with 2 Axes>"
      ]
     },
     "metadata": {
      "needs_background": "light"
     },
     "output_type": "display_data"
    }
   ],
   "source": [
    "corr_df = red_wine.corr(method='pearson')\n",
    "plt.figure(figsize=(15, 6))\n",
    "sns.heatmap(corr_df, annot=True, cmap = \"coolwarm\", mask = np.triu(corr_df))\n",
    "plt.title('Correlation matrix')\n",
    "plt.show()"
   ]
  },
  {
   "cell_type": "code",
   "execution_count": 17,
   "metadata": {},
   "outputs": [
    {
     "name": "stdout",
     "output_type": "stream",
     "text": [
      "0 variable(s) have a correlation superior than : 0.7.\n"
     ]
    }
   ],
   "source": [
    "def correlation(dataset, threshold):\n",
    "    col_corr = set()  # Set of all the names of correlated columns\n",
    "    corr_matrix = dataset.corr()\n",
    "    for i in range(len(corr_matrix.columns)):\n",
    "        for j in range(i):\n",
    "            if abs(corr_matrix.iloc[i, j]) > threshold: # we are interested in absolute coeff value\n",
    "                colname = corr_matrix.columns[i]  # getting the name of column\n",
    "                col_corr.add(colname)\n",
    "    return col_corr, threshold\n",
    "# verifying if there are variables with correlation greater than the threshold\n",
    "corr_features, threshold = correlation(red_wine, 0.7)\n",
    "print('{} variable(s) have a correlation superior than : {}.'.format(len(set(corr_features)), threshold))"
   ]
  },
  {
   "cell_type": "code",
   "execution_count": 18,
   "metadata": {},
   "outputs": [],
   "source": [
    "#Feature Engineering...\n",
    "bins = (2, 6.5, 8)\n",
    "group_names = ['bad', 'good']\n",
    "red_wine['quality'] = pd.cut(red_wine['quality'], bins = bins, labels = group_names)\n",
    "\n",
    "#Feature Transformation...\n",
    "red_wine['quality'].replace({'bad':0, 'good':1}, inplace=True)"
   ]
  },
  {
   "cell_type": "code",
   "execution_count": 67,
   "metadata": {},
   "outputs": [
    {
     "name": "stdout",
     "output_type": "stream",
     "text": [
      "Distribution of the target : \n"
     ]
    },
    {
     "data": {
      "text/plain": [
       "0    0.86\n",
       "1    0.14\n",
       "Name: quality, dtype: float64"
      ]
     },
     "execution_count": 67,
     "metadata": {},
     "output_type": "execute_result"
    }
   ],
   "source": [
    "print('Distribution of the target in percentage : ')\n",
    "round(red_wine['quality'].value_counts(normalize=True), 2)"
   ]
  },
  {
   "cell_type": "code",
   "execution_count": 20,
   "metadata": {},
   "outputs": [
    {
     "name": "stdout",
     "output_type": "stream",
     "text": [
      "Shape of the dataset : (1359, 12)\n"
     ]
    }
   ],
   "source": [
    "print(\"Shape of the dataset : {}\".format(red_wine.shape))"
   ]
  },
  {
   "cell_type": "markdown",
   "metadata": {},
   "source": [
    "# 4. Logistic Regression <a id = 'sec4'></a>"
   ]
  },
  {
   "cell_type": "markdown",
   "metadata": {},
   "source": [
    "`Logistic regression` is a process of modeling the probability of a discrete outcome given an input variable. The most common logistic regression models a binary outcome; something that can take two values such as true/false, yes/no, and so on. It is a classification model rather than regression model despite its name. Logistic regression is a simple and more efficient method for binary and linear classification problems. It is a classification model, which is very easy to realize and achieves very good performance with linearly separable classes. It is an extensively employed algorithm for classification in industry. The logistic regression model, is a statistical method for binary classification that can be generalized to multiclass classification. \n",
    "\n",
    "The model we are performing in this section we'll be use as a benchmark to evaluate the differents methods of dimension reduction that we will use."
   ]
  },
  {
   "cell_type": "code",
   "execution_count": 21,
   "metadata": {},
   "outputs": [],
   "source": [
    "# features, training and testing dataset engineering\n",
    "X, y = red_wine.drop('quality', axis=1), red_wine.quality\n",
    "X_train, X_test, y_train, y_test = train_test_split(X, y, random_state=42, test_size=.3)"
   ]
  },
  {
   "cell_type": "code",
   "execution_count": 22,
   "metadata": {},
   "outputs": [],
   "source": [
    "# Model specification\n",
    "pipeline = Pipeline([\n",
    "    ('scaler', StandardScaler()),\n",
    "    ('model', LogisticRegression())\n",
    "])\n",
    "\n",
    "# Hyperparameters specification\n",
    "params = {\n",
    "    'model__penalty' : ['l1', 'l2'], \n",
    "    'model__C' : np.logspace(-4, 4, 5), \n",
    "    'model__solver': ['newton-cg','sag', 'lbfgs']\n",
    "    }"
   ]
  },
  {
   "cell_type": "code",
   "execution_count": null,
   "metadata": {},
   "outputs": [],
   "source": [
    "# GridSearchCV instanciation\n",
    "search = GridSearchCV(estimator=pipeline, param_grid=params, cv=10, scoring='neg_mean_squared_error', verbose=1)\n",
    "search.fit(X_train, y_train)"
   ]
  },
  {
   "cell_type": "code",
   "execution_count": 24,
   "metadata": {},
   "outputs": [
    {
     "name": "stdout",
     "output_type": "stream",
     "text": [
      "Logistic Regression best parameters :\n",
      " {'model__C': 1.0, 'model__penalty': 'l2', 'model__solver': 'newton-cg'}\n",
      "==============================================================================\n",
      "Logistic Regression final model :\n",
      " Pipeline(steps=[('scaler', StandardScaler()),\n",
      "                ('model', LogisticRegression(solver='newton-cg'))])\n",
      "==============================================================================\n",
      "Fitting to the train set : 0.876\n",
      "==============================================================================\n",
      "Final model Accuracy : 0.887\n",
      "==============================================================================\n",
      "Classification report : \n",
      "              precision    recall  f1-score   support\n",
      "\n",
      "           0      0.912     0.963     0.937       354\n",
      "           1      0.618     0.389     0.477        54\n",
      "\n",
      "    accuracy                          0.887       408\n",
      "   macro avg      0.765     0.676     0.707       408\n",
      "weighted avg      0.873     0.887     0.876       408\n",
      "\n",
      "==============================================================================\n",
      "Confusion matrix : \n"
     ]
    },
    {
     "data": {
      "image/png": "[encoded data removed]",
      "text/plain": [
       "<Figure size 432x288 with 2 Axes>"
      ]
     },
     "metadata": {
      "needs_background": "light"
     },
     "output_type": "display_data"
    }
   ],
   "source": [
    "# Logistic regression\n",
    "print('Logistic Regression best parameters :\\n', search.best_params_)\n",
    "best_logreg_model = search.best_estimator_\n",
    "print(\"==============================================================================\")\n",
    "print(\"Logistic Regression final model :\\n\", best_logreg_model)\n",
    "print(\"==============================================================================\")\n",
    "print('Fitting to the train set : {:04.3f}'.format(best_logreg_model.score(X_train, y_train)))\n",
    "print(\"==============================================================================\")\n",
    "score_best_logreg = best_logreg_model.score(X_test, y_test)\n",
    "print('Final model Accuracy : {:04.3f}'.format(score_best_logreg))\n",
    "print(\"==============================================================================\")\n",
    "print(\"Classification report : \")\n",
    "best_logreg_pred = best_logreg_model.predict(X_test)\n",
    "print(classification_report(y_test, best_logreg_pred, \n",
    "                            digits=3, zero_division = 1))\n",
    "print(\"==============================================================================\")\n",
    "print(\"Confusion matrix : \")\n",
    "disp = plot_confusion_matrix(best_logreg_model, X_test, y_test, cmap='Reds', values_format='d',\n",
    "                            xticks_rotation='vertical')"
   ]
  },
  {
   "cell_type": "code",
   "execution_count": 25,
   "metadata": {},
   "outputs": [
    {
     "data": {
      "image/png": "[encoded data removed]",
      "text/plain": [
       "<Figure size 432x288 with 1 Axes>"
      ]
     },
     "metadata": {
      "needs_background": "light"
     },
     "output_type": "display_data"
    }
   ],
   "source": [
    "# Plot the ROC curve \n",
    "plot_roc_curve(best_logreg_model, X_test, y_test, ax = plt.gca());"
   ]
  },
  {
   "cell_type": "markdown",
   "metadata": {},
   "source": [
    "Comment : The `accuracy = 88.7%` and the `AUC = 0.89` indicate that the `base logistic regression (logreg) `model performed have a high power of prediction. Given that the distribution of the target `(quality)` isn't balanced, it is important to use other metrics than the accuracy to assess the performance of the model so, we use the `AUC score` because it is more reliable in this case."
   ]
  },
  {
   "cell_type": "markdown",
   "metadata": {},
   "source": [
    "# 5. Lasso <a id = 'sec5'></a>"
   ]
  },
  {
   "cell_type": "markdown",
   "metadata": {},
   "source": [
    "Lasso stands for `Least Absolute Shrinkage and Selection Operator`. It is a type of linear regression that uses `shrinkage`. The shrinkage part is where data values are shrunk towards a central point, like the mean and for the `regularization` part is intended to counter the problem of over fitting. Over fitting becomes a clear menace when there is a large data set with thousands of features and records. Lasso method is use in features selection and use because it can render a sparce matrix of the predictors. That means that it can reduce the coefficient of a feature to zero thus completely eliminating it and hence is better at reducing the variance when the data consists of many insignificant features. It starts with the standard `Ordinary Least Squares` form and add a penalty for model complexity.\n",
    "\n",
    "Lasso is = Residual Sum of Squares + $\\lambda$ * (Sum of the absolute value of the magnitude of coefficients).\n",
    "\n",
    "$$\n",
    "\\hat{\\beta} = \\arg \\min_\\beta\\sum_{i=1}^{n}\\left (y_i - (\\beta_0 + \\beta^TX_i)^2 + \\lambda\\left\\|\\beta \\right\\|_2  \\right )\n",
    "$$\n",
    "\n",
    "- $`\\lambda`$ denotes the amount of shrinkage\n",
    "- $`\\lambda = 0`$ implies all features are considered and it is equivalent to the linear regression where only the residual sum of squares are considered to build a predictive model\n",
    "- $`\\lambda = \\infty`$ implies no feature is considered i.e, as $\\lambda$ closes to infinity it eliminates more and more features\n",
    "- The bias increases with increase in $\\lambda$\n",
    "- variance increases with decrease in $\\lambda$\n",
    "\n",
    "In our case, our grid of parameters is defined like this :\n",
    "- $\\alpha$ : regulation parameter\n",
    "- `fit_intercept` : whether or not to include the intercept in the model\n",
    "- `normalize` : whether or not to nomalize to features by substracting the mean and divising by the $l2 - norm$ \n",
    "- `positive` : force the coeficients to be positive or not\n",
    "- `selection`: choose a random coeficient to update each time or not\n"
   ]
  },
  {
   "cell_type": "code",
   "execution_count": 26,
   "metadata": {},
   "outputs": [],
   "source": [
    "# Features and hyperparameters grid engineering\n",
    "X, y = red_wine.drop('quality', axis=1), red_wine.quality\n",
    "\n",
    "pipeline = Pipeline([\n",
    "    ('scaler', StandardScaler()),\n",
    "    ('model', Lasso())\n",
    "])\n",
    "\n",
    "param = {\n",
    "    'model__alpha':[.00001, .0001, .001, .01],\n",
    "    'model__fit_intercept':[True,False],\n",
    "    'model__normalize':[True,False],\n",
    "    'model__positive':[True,False],\n",
    "    'model__selection':['cyclic','random']\n",
    "    }"
   ]
  },
  {
   "cell_type": "code",
   "execution_count": 27,
   "metadata": {},
   "outputs": [
    {
     "name": "stdout",
     "output_type": "stream",
     "text": [
      "Fitting 10 folds for each of 64 candidates, totalling 640 fits\n"
     ]
    },
    {
     "data": {
      "text/plain": [
       "GridSearchCV(cv=10,\n",
       "             estimator=Pipeline(steps=[('scaler', StandardScaler()),\n",
       "                                       ('model', Lasso())]),\n",
       "             param_grid={'model__alpha': [1e-05, 0.0001, 0.001, 0.01],\n",
       "                         'model__fit_intercept': [True, False],\n",
       "                         'model__normalize': [True, False],\n",
       "                         'model__positive': [True, False],\n",
       "                         'model__selection': ['cyclic', 'random']},\n",
       "             scoring='neg_mean_squared_error', verbose=1)"
      ]
     },
     "execution_count": 27,
     "metadata": {},
     "output_type": "execute_result"
    }
   ],
   "source": [
    "# fitting\n",
    "search = GridSearchCV(estimator=pipeline, param_grid=param, cv=10, scoring='neg_mean_squared_error', verbose=1)\n",
    "# Training\n",
    "search.fit(X_train, y_train)"
   ]
  },
  {
   "cell_type": "code",
   "execution_count": 28,
   "metadata": {},
   "outputs": [
    {
     "name": "stdout",
     "output_type": "stream",
     "text": [
      "Best parmameters of the model\n",
      " {'model__alpha': 0.001, 'model__fit_intercept': True, 'model__normalize': False, 'model__positive': False, 'model__selection': 'random'}\n",
      "====================================================================================================\n",
      "Coeficients : \n",
      " [ 0.05962773 -0.03928784  0.01089208  0.01614095 -0.03552195 -0.\n",
      " -0.02008359 -0.05343362 -0.          0.06152995  0.07435172]\n",
      "====================================================================================================\n",
      "Total number of features : 11\n",
      "====================================================================================================\n",
      "9 Features selected by the model : \n",
      " ['fixed acidity' 'volatile acidity' 'citric acid' 'residual sugar'\n",
      " 'chlorides' 'total sulfur dioxide' 'density' 'sulphates' 'alcohol']\n",
      "====================================================================================================\n",
      "2 Features dropped by the model : \n",
      " ['free sulfur dioxide' 'pH']\n",
      "====================================================================================================\n"
     ]
    }
   ],
   "source": [
    "print('Best parmameters of the model\\n {}'.format(search.best_params_))\n",
    "print('='*100)\n",
    "coef_0 = search.best_estimator_[1].coef_\n",
    "print('Coeficients : \\n {}'.format(search.best_estimator_[1].coef_))\n",
    "print('='*100)\n",
    "print('Total number of features : {}'.format((X_train.shape[1])))\n",
    "feat = np.array(X.columns)[coef_0 != 0]\n",
    "print('='*100)\n",
    "print('{} Features selected by the model : \\n {}'.format(len(feat), feat))\n",
    "print('='*100)\n",
    "not_feat = np.array(X.columns)[coef_0 == 0]\n",
    "print('{} Features dropped by the model : \\n {}'.format(len(not_feat), not_feat))\n",
    "print('='*100)"
   ]
  },
  {
   "cell_type": "code",
   "execution_count": 29,
   "metadata": {},
   "outputs": [
    {
     "name": "stdout",
     "output_type": "stream",
     "text": [
      "Overview of the features matrix :\n"
     ]
    },
    {
     "data": {
      "text/html": [
       "<div>\n",
       "<style scoped>\n",
       "    .dataframe tbody tr th:only-of-type {\n",
       "        vertical-align: middle;\n",
       "    }\n",
       "\n",
       "    .dataframe tbody tr th {\n",
       "        vertical-align: top;\n",
       "    }\n",
       "\n",
       "    .dataframe thead th {\n",
       "        text-align: right;\n",
       "    }\n",
       "</style>\n",
       "<table border=\"1\" class=\"dataframe\">\n",
       "  <thead>\n",
       "    <tr style=\"text-align: right;\">\n",
       "      <th></th>\n",
       "      <th>fixed acidity</th>\n",
       "      <th>volatile acidity</th>\n",
       "      <th>citric acid</th>\n",
       "      <th>residual sugar</th>\n",
       "      <th>chlorides</th>\n",
       "      <th>total sulfur dioxide</th>\n",
       "      <th>density</th>\n",
       "      <th>sulphates</th>\n",
       "      <th>alcohol</th>\n",
       "    </tr>\n",
       "  </thead>\n",
       "  <tbody>\n",
       "    <tr>\n",
       "      <th>0</th>\n",
       "      <td>7.4</td>\n",
       "      <td>0.70</td>\n",
       "      <td>0.00</td>\n",
       "      <td>1.9</td>\n",
       "      <td>0.076</td>\n",
       "      <td>34.0</td>\n",
       "      <td>0.9978</td>\n",
       "      <td>0.56</td>\n",
       "      <td>9.4</td>\n",
       "    </tr>\n",
       "    <tr>\n",
       "      <th>1</th>\n",
       "      <td>7.8</td>\n",
       "      <td>0.88</td>\n",
       "      <td>0.00</td>\n",
       "      <td>2.6</td>\n",
       "      <td>0.098</td>\n",
       "      <td>67.0</td>\n",
       "      <td>0.9968</td>\n",
       "      <td>0.68</td>\n",
       "      <td>9.8</td>\n",
       "    </tr>\n",
       "    <tr>\n",
       "      <th>2</th>\n",
       "      <td>7.8</td>\n",
       "      <td>0.76</td>\n",
       "      <td>0.04</td>\n",
       "      <td>2.3</td>\n",
       "      <td>0.092</td>\n",
       "      <td>54.0</td>\n",
       "      <td>0.9970</td>\n",
       "      <td>0.65</td>\n",
       "      <td>9.8</td>\n",
       "    </tr>\n",
       "    <tr>\n",
       "      <th>3</th>\n",
       "      <td>11.2</td>\n",
       "      <td>0.28</td>\n",
       "      <td>0.56</td>\n",
       "      <td>1.9</td>\n",
       "      <td>0.075</td>\n",
       "      <td>60.0</td>\n",
       "      <td>0.9980</td>\n",
       "      <td>0.58</td>\n",
       "      <td>9.8</td>\n",
       "    </tr>\n",
       "    <tr>\n",
       "      <th>5</th>\n",
       "      <td>7.4</td>\n",
       "      <td>0.66</td>\n",
       "      <td>0.00</td>\n",
       "      <td>1.8</td>\n",
       "      <td>0.075</td>\n",
       "      <td>40.0</td>\n",
       "      <td>0.9978</td>\n",
       "      <td>0.56</td>\n",
       "      <td>9.4</td>\n",
       "    </tr>\n",
       "    <tr>\n",
       "      <th>6</th>\n",
       "      <td>7.9</td>\n",
       "      <td>0.60</td>\n",
       "      <td>0.06</td>\n",
       "      <td>1.6</td>\n",
       "      <td>0.069</td>\n",
       "      <td>59.0</td>\n",
       "      <td>0.9964</td>\n",
       "      <td>0.46</td>\n",
       "      <td>9.4</td>\n",
       "    </tr>\n",
       "    <tr>\n",
       "      <th>7</th>\n",
       "      <td>7.3</td>\n",
       "      <td>0.65</td>\n",
       "      <td>0.00</td>\n",
       "      <td>1.2</td>\n",
       "      <td>0.065</td>\n",
       "      <td>21.0</td>\n",
       "      <td>0.9946</td>\n",
       "      <td>0.47</td>\n",
       "      <td>10.0</td>\n",
       "    </tr>\n",
       "    <tr>\n",
       "      <th>8</th>\n",
       "      <td>7.8</td>\n",
       "      <td>0.58</td>\n",
       "      <td>0.02</td>\n",
       "      <td>2.0</td>\n",
       "      <td>0.073</td>\n",
       "      <td>18.0</td>\n",
       "      <td>0.9968</td>\n",
       "      <td>0.57</td>\n",
       "      <td>9.5</td>\n",
       "    </tr>\n",
       "    <tr>\n",
       "      <th>9</th>\n",
       "      <td>7.5</td>\n",
       "      <td>0.50</td>\n",
       "      <td>0.36</td>\n",
       "      <td>6.1</td>\n",
       "      <td>0.071</td>\n",
       "      <td>102.0</td>\n",
       "      <td>0.9978</td>\n",
       "      <td>0.80</td>\n",
       "      <td>10.5</td>\n",
       "    </tr>\n",
       "    <tr>\n",
       "      <th>10</th>\n",
       "      <td>6.7</td>\n",
       "      <td>0.58</td>\n",
       "      <td>0.08</td>\n",
       "      <td>1.8</td>\n",
       "      <td>0.097</td>\n",
       "      <td>65.0</td>\n",
       "      <td>0.9959</td>\n",
       "      <td>0.54</td>\n",
       "      <td>9.2</td>\n",
       "    </tr>\n",
       "  </tbody>\n",
       "</table>\n",
       "</div>"
      ],
      "text/plain": [
       "    fixed acidity  volatile acidity  citric acid  residual sugar  chlorides  \\\n",
       "0             7.4              0.70         0.00             1.9      0.076   \n",
       "1             7.8              0.88         0.00             2.6      0.098   \n",
       "2             7.8              0.76         0.04             2.3      0.092   \n",
       "3            11.2              0.28         0.56             1.9      0.075   \n",
       "5             7.4              0.66         0.00             1.8      0.075   \n",
       "6             7.9              0.60         0.06             1.6      0.069   \n",
       "7             7.3              0.65         0.00             1.2      0.065   \n",
       "8             7.8              0.58         0.02             2.0      0.073   \n",
       "9             7.5              0.50         0.36             6.1      0.071   \n",
       "10            6.7              0.58         0.08             1.8      0.097   \n",
       "\n",
       "    total sulfur dioxide  density  sulphates  alcohol  \n",
       "0                   34.0   0.9978       0.56      9.4  \n",
       "1                   67.0   0.9968       0.68      9.8  \n",
       "2                   54.0   0.9970       0.65      9.8  \n",
       "3                   60.0   0.9980       0.58      9.8  \n",
       "5                   40.0   0.9978       0.56      9.4  \n",
       "6                   59.0   0.9964       0.46      9.4  \n",
       "7                   21.0   0.9946       0.47     10.0  \n",
       "8                   18.0   0.9968       0.57      9.5  \n",
       "9                  102.0   0.9978       0.80     10.5  \n",
       "10                  65.0   0.9959       0.54      9.2  "
      ]
     },
     "execution_count": 29,
     "metadata": {},
     "output_type": "execute_result"
    }
   ],
   "source": [
    "print('Overview of the features matrix :')\n",
    "red_wine[feat].head(10)"
   ]
  },
  {
   "cell_type": "markdown",
   "metadata": {},
   "source": [
    "## Logistic Regression"
   ]
  },
  {
   "cell_type": "code",
   "execution_count": null,
   "metadata": {},
   "outputs": [],
   "source": [
    "# Trainig a logistic regression model with the features choosen by the lasso method\n",
    "model_logreg = LogisticRegression().fit(X_train[feat], y_train)"
   ]
  },
  {
   "cell_type": "code",
   "execution_count": 31,
   "metadata": {},
   "outputs": [],
   "source": [
    "# Hyperparameters grid\n",
    "param_grid_logreg = {\n",
    "    'penalty' : ['l1', 'l2'], \n",
    "    'C' : np.logspace(-4, 4, 5), \n",
    "    'solver': ['newton-cg','sag', 'lbfgs']\n",
    "}"
   ]
  },
  {
   "cell_type": "code",
   "execution_count": null,
   "metadata": {},
   "outputs": [],
   "source": [
    "# logreg\n",
    "# Instantiate the grid search model\n",
    "grid_logreg = GridSearchCV(estimator = model_logreg, param_grid = param_grid_logreg, cv = 5, n_jobs=-1)\n",
    "# Fit the grid search to the data\n",
    "best_logreg_grid = grid_logreg.fit(X_train[feat], y_train)"
   ]
  },
  {
   "cell_type": "code",
   "execution_count": 33,
   "metadata": {},
   "outputs": [
    {
     "name": "stdout",
     "output_type": "stream",
     "text": [
      "Logistic Regression best parameters :\n",
      " {'C': 1.0, 'penalty': 'l2', 'solver': 'newton-cg'}\n",
      "====================================================================================================\n",
      "Logistic Regression final model :\n",
      " LogisticRegression(solver='newton-cg')\n",
      "====================================================================================================\n",
      "Fitting to the train set : 0.872\n",
      "====================================================================================================\n",
      "Final model Accuracy : 0.895\n",
      "====================================================================================================\n",
      "Base model accuracy : 0.895\n",
      "====================================================================================================\n",
      "Classification report : \n",
      "              precision    recall  f1-score   support\n",
      "\n",
      "           0      0.908     0.977     0.941       354\n",
      "           1      0.704     0.352     0.469        54\n",
      "\n",
      "    accuracy                          0.895       408\n",
      "   macro avg      0.806     0.665     0.705       408\n",
      "weighted avg      0.881     0.895     0.879       408\n",
      "\n",
      "====================================================================================================\n",
      "Confusion matrix : \n"
     ]
    },
    {
     "data": {
      "image/png": "[encoded data removed]",
      "text/plain": [
       "<Figure size 432x288 with 2 Axes>"
      ]
     },
     "metadata": {
      "needs_background": "light"
     },
     "output_type": "display_data"
    }
   ],
   "source": [
    "print('Logistic Regression best parameters :\\n', best_logreg_grid.best_params_)\n",
    "best_logreg_model = best_logreg_grid.best_estimator_\n",
    "print('='*100)\n",
    "print(\"Logistic Regression final model :\\n\", best_logreg_model)\n",
    "print('='*100)\n",
    "print('Fitting to the train set : {:04.3f}'.format(best_logreg_model.score(X_train[feat], y_train)))\n",
    "print('='*100)\n",
    "score_best_logreg = best_logreg_model.score(X_test[feat], y_test)\n",
    "print('Final model Accuracy : {:04.3f}'.format(score_best_logreg))\n",
    "print('='*100)\n",
    "score_base_logreg = model_logreg.score(X_test[feat], y_test)\n",
    "print(\"Base model accuracy : {:04.3f}\".format(score_base_logreg))\n",
    "print('='*100)\n",
    "print(\"Classification report : \")\n",
    "best_logreg_pred = best_logreg_model.predict(X_test[feat])\n",
    "print(classification_report(y_test, best_logreg_pred, \n",
    "                            digits=3, zero_division = 1))\n",
    "print('='*100)\n",
    "print(\"Confusion matrix : \")\n",
    "disp = plot_confusion_matrix(best_logreg_model, X_test[feat], y_test, cmap='Reds', values_format='d',\n",
    "                            xticks_rotation='vertical')"
   ]
  },
  {
   "cell_type": "code",
   "execution_count": 34,
   "metadata": {},
   "outputs": [
    {
     "data": {
      "image/png": "[encoded data removed]",
      "text/plain": [
       "<Figure size 432x288 with 1 Axes>"
      ]
     },
     "metadata": {
      "needs_background": "light"
     },
     "output_type": "display_data"
    }
   ],
   "source": [
    "plot_roc_curve(best_logreg_model, X_test[feat], y_test, ax = plt.gca());"
   ]
  },
  {
   "cell_type": "markdown",
   "metadata": {},
   "source": [
    "Comment : As we expected, the Lasso method have improved the quality of the model :\n",
    "- For the logistic regression, we had `accuracy (logreg) = 88.7%` and the `AUC = 0.89` and now the `accuracy (lasso) = 89.5%` proves that the reduction of dimension perfomed with the Lasso give a better perdicting output. The model still have the same power of prediction `(AUC (lasso) = AUC (logreg) = 0.89)`."
   ]
  },
  {
   "cell_type": "markdown",
   "metadata": {},
   "source": [
    "# 6. Gradient Boosting <a id = 'sec6'></a>"
   ]
  },
  {
   "cell_type": "markdown",
   "metadata": {},
   "source": [
    "\n",
    "\n",
    "Gradient boosting is a powerful algorithm that can be use to find any nonlinear relationship between your model target and features and has great usability that can deal with missing values, outliers, and high cardinality categorical values on your features without any special treatment. The idea is to test whether a weak learner can be modified to become better. A weak hypothesis or weak learner is defined as one whose performance is at least slightly better than random chance. The formal definition of the Gradient Boosting is given by the computing of :\n",
    "$$\\arg \\min_{g \\in \\varrho }\\left\\{ \\sum_{i=1}^{n} \\left [ L \\left ( y_i , f^{t-1}(x_i) \\right ) + \\alpha g(x_i) \\right ]\\right\\}$$\n",
    "\n",
    "- $L \\left ( y_i , f^{t-1}(x) \\right ) = (y - f(x))^2$ : quadratic loss\n",
    "- $g$ : collection of regressors binary trees with depth $L$\n",
    "\n",
    "We use `RFECV` to perform a cross validation with a boosting classifier with the following parameters :\n",
    "- `criterion = 'mse'` : minimum of the mean squared error as criterion\n",
    "- `learning_rate` : shrinkage parameter for the trees\n",
    "- `n_estimators` : number of boosting stage to perform\n",
    "- `loss` : loss function, deviance means two times the log likelihood attached to the model"
   ]
  },
  {
   "cell_type": "code",
   "execution_count": 35,
   "metadata": {},
   "outputs": [],
   "source": [
    "# Cross validation with REFCV to select the model with the better performance\n",
    "sel_2 =RFECV(GradientBoostingClassifier(criterion=\"mse\",learning_rate=0.1,verbose=-1,n_estimators=200,\n",
    "                                                loss='deviance',random_state=39), cv=5,scoring='f1_weighted')"
   ]
  },
  {
   "cell_type": "code",
   "execution_count": null,
   "metadata": {},
   "outputs": [],
   "source": [
    "#Trainning\n",
    "sel_2 = sel_2.fit(X_train, y_train)"
   ]
  },
  {
   "cell_type": "code",
   "execution_count": 37,
   "metadata": {},
   "outputs": [
    {
     "name": "stdout",
     "output_type": "stream",
     "text": [
      "9 Features selected by the model :\n",
      "Index(['fixed acidity', 'volatile acidity', 'citric acid', 'chlorides',\n",
      "       'free sulfur dioxide', 'total sulfur dioxide', 'density', 'sulphates',\n",
      "       'alcohol'],\n",
      "      dtype='object')\n"
     ]
    }
   ],
   "source": [
    "feat2 = X_train.columns[(sel_2.get_support())]\n",
    "print('{} Features selected by the model :\\n{}'.format(len(feat2), feat2))"
   ]
  },
  {
   "cell_type": "code",
   "execution_count": 38,
   "metadata": {},
   "outputs": [
    {
     "data": {
      "image/png": "[encoded data removed]",
      "text/plain": [
       "<Figure size 432x288 with 1 Axes>"
      ]
     },
     "metadata": {
      "needs_background": "light"
     },
     "output_type": "display_data"
    }
   ],
   "source": [
    "plt.xlabel(\"# of features\")\n",
    "plt.ylabel(\"Scores\")\n",
    "plt.plot(range(1, len(sel_2.grid_scores_) + 1), sel_2.grid_scores_, '-o')\n",
    "plt.title('# of features vs scores');"
   ]
  },
  {
   "cell_type": "markdown",
   "metadata": {},
   "source": [
    "Comment :  As we have seen the performance of the model is at his peak with these 9 features choosen : `'fixed acidity', 'volatile acidity', 'citric acid', 'chlorides',\n",
    "       'free sulfur dioxide', 'total sulfur dioxide', 'density', 'sulphates',\n",
    "       'alcohol'`"
   ]
  },
  {
   "cell_type": "markdown",
   "metadata": {},
   "source": [
    "## Logistic Regression"
   ]
  },
  {
   "cell_type": "code",
   "execution_count": null,
   "metadata": {},
   "outputs": [],
   "source": [
    "# logreg\n",
    "# Instantiate the grid search model\n",
    "grid_logreg = GridSearchCV(estimator = model_logreg, param_grid = param_grid_logreg, cv = 5, n_jobs=-1)\n",
    "# Fit the grid search to the data\n",
    "best_logreg_grid = grid_logreg.fit(X_train[feat2], y_train)"
   ]
  },
  {
   "cell_type": "code",
   "execution_count": 40,
   "metadata": {},
   "outputs": [
    {
     "data": {
      "text/html": [
       "<div>\n",
       "<style scoped>\n",
       "    .dataframe tbody tr th:only-of-type {\n",
       "        vertical-align: middle;\n",
       "    }\n",
       "\n",
       "    .dataframe tbody tr th {\n",
       "        vertical-align: top;\n",
       "    }\n",
       "\n",
       "    .dataframe thead th {\n",
       "        text-align: right;\n",
       "    }\n",
       "</style>\n",
       "<table border=\"1\" class=\"dataframe\">\n",
       "  <thead>\n",
       "    <tr style=\"text-align: right;\">\n",
       "      <th></th>\n",
       "      <th>fixed acidity</th>\n",
       "      <th>volatile acidity</th>\n",
       "      <th>citric acid</th>\n",
       "      <th>chlorides</th>\n",
       "      <th>free sulfur dioxide</th>\n",
       "      <th>total sulfur dioxide</th>\n",
       "      <th>density</th>\n",
       "      <th>sulphates</th>\n",
       "      <th>alcohol</th>\n",
       "    </tr>\n",
       "  </thead>\n",
       "  <tbody>\n",
       "    <tr>\n",
       "      <th>55</th>\n",
       "      <td>7.7</td>\n",
       "      <td>0.620</td>\n",
       "      <td>0.04</td>\n",
       "      <td>0.084</td>\n",
       "      <td>25.0</td>\n",
       "      <td>45.0</td>\n",
       "      <td>0.99780</td>\n",
       "      <td>0.53</td>\n",
       "      <td>9.5</td>\n",
       "    </tr>\n",
       "    <tr>\n",
       "      <th>1291</th>\n",
       "      <td>8.2</td>\n",
       "      <td>0.635</td>\n",
       "      <td>0.10</td>\n",
       "      <td>0.073</td>\n",
       "      <td>25.0</td>\n",
       "      <td>60.0</td>\n",
       "      <td>0.99638</td>\n",
       "      <td>0.75</td>\n",
       "      <td>10.9</td>\n",
       "    </tr>\n",
       "    <tr>\n",
       "      <th>1544</th>\n",
       "      <td>8.4</td>\n",
       "      <td>0.370</td>\n",
       "      <td>0.43</td>\n",
       "      <td>0.063</td>\n",
       "      <td>12.0</td>\n",
       "      <td>19.0</td>\n",
       "      <td>0.99550</td>\n",
       "      <td>0.81</td>\n",
       "      <td>11.2</td>\n",
       "    </tr>\n",
       "    <tr>\n",
       "      <th>593</th>\n",
       "      <td>9.9</td>\n",
       "      <td>0.490</td>\n",
       "      <td>0.58</td>\n",
       "      <td>0.094</td>\n",
       "      <td>9.0</td>\n",
       "      <td>43.0</td>\n",
       "      <td>1.00040</td>\n",
       "      <td>0.58</td>\n",
       "      <td>9.0</td>\n",
       "    </tr>\n",
       "    <tr>\n",
       "      <th>1261</th>\n",
       "      <td>6.3</td>\n",
       "      <td>1.020</td>\n",
       "      <td>0.00</td>\n",
       "      <td>0.083</td>\n",
       "      <td>17.0</td>\n",
       "      <td>24.0</td>\n",
       "      <td>0.99437</td>\n",
       "      <td>0.55</td>\n",
       "      <td>11.2</td>\n",
       "    </tr>\n",
       "    <tr>\n",
       "      <th>...</th>\n",
       "      <td>...</td>\n",
       "      <td>...</td>\n",
       "      <td>...</td>\n",
       "      <td>...</td>\n",
       "      <td>...</td>\n",
       "      <td>...</td>\n",
       "      <td>...</td>\n",
       "      <td>...</td>\n",
       "      <td>...</td>\n",
       "    </tr>\n",
       "    <tr>\n",
       "      <th>1305</th>\n",
       "      <td>7.5</td>\n",
       "      <td>0.610</td>\n",
       "      <td>0.26</td>\n",
       "      <td>0.073</td>\n",
       "      <td>24.0</td>\n",
       "      <td>88.0</td>\n",
       "      <td>0.99612</td>\n",
       "      <td>0.53</td>\n",
       "      <td>9.8</td>\n",
       "    </tr>\n",
       "    <tr>\n",
       "      <th>1120</th>\n",
       "      <td>7.9</td>\n",
       "      <td>0.540</td>\n",
       "      <td>0.34</td>\n",
       "      <td>0.076</td>\n",
       "      <td>8.0</td>\n",
       "      <td>17.0</td>\n",
       "      <td>0.99235</td>\n",
       "      <td>0.72</td>\n",
       "      <td>13.1</td>\n",
       "    </tr>\n",
       "    <tr>\n",
       "      <th>456</th>\n",
       "      <td>8.9</td>\n",
       "      <td>0.590</td>\n",
       "      <td>0.39</td>\n",
       "      <td>0.095</td>\n",
       "      <td>5.0</td>\n",
       "      <td>22.0</td>\n",
       "      <td>0.99860</td>\n",
       "      <td>0.58</td>\n",
       "      <td>10.3</td>\n",
       "    </tr>\n",
       "    <tr>\n",
       "      <th>1076</th>\n",
       "      <td>9.9</td>\n",
       "      <td>0.320</td>\n",
       "      <td>0.56</td>\n",
       "      <td>0.073</td>\n",
       "      <td>3.0</td>\n",
       "      <td>8.0</td>\n",
       "      <td>0.99534</td>\n",
       "      <td>0.73</td>\n",
       "      <td>11.4</td>\n",
       "    </tr>\n",
       "    <tr>\n",
       "      <th>838</th>\n",
       "      <td>10.1</td>\n",
       "      <td>0.310</td>\n",
       "      <td>0.35</td>\n",
       "      <td>0.075</td>\n",
       "      <td>9.0</td>\n",
       "      <td>28.0</td>\n",
       "      <td>0.99672</td>\n",
       "      <td>0.83</td>\n",
       "      <td>11.2</td>\n",
       "    </tr>\n",
       "  </tbody>\n",
       "</table>\n",
       "<p>408 rows × 9 columns</p>\n",
       "</div>"
      ],
      "text/plain": [
       "      fixed acidity  volatile acidity  citric acid  chlorides  \\\n",
       "55              7.7             0.620         0.04      0.084   \n",
       "1291            8.2             0.635         0.10      0.073   \n",
       "1544            8.4             0.370         0.43      0.063   \n",
       "593             9.9             0.490         0.58      0.094   \n",
       "1261            6.3             1.020         0.00      0.083   \n",
       "...             ...               ...          ...        ...   \n",
       "1305            7.5             0.610         0.26      0.073   \n",
       "1120            7.9             0.540         0.34      0.076   \n",
       "456             8.9             0.590         0.39      0.095   \n",
       "1076            9.9             0.320         0.56      0.073   \n",
       "838            10.1             0.310         0.35      0.075   \n",
       "\n",
       "      free sulfur dioxide  total sulfur dioxide  density  sulphates  alcohol  \n",
       "55                   25.0                  45.0  0.99780       0.53      9.5  \n",
       "1291                 25.0                  60.0  0.99638       0.75     10.9  \n",
       "1544                 12.0                  19.0  0.99550       0.81     11.2  \n",
       "593                   9.0                  43.0  1.00040       0.58      9.0  \n",
       "1261                 17.0                  24.0  0.99437       0.55     11.2  \n",
       "...                   ...                   ...      ...        ...      ...  \n",
       "1305                 24.0                  88.0  0.99612       0.53      9.8  \n",
       "1120                  8.0                  17.0  0.99235       0.72     13.1  \n",
       "456                   5.0                  22.0  0.99860       0.58     10.3  \n",
       "1076                  3.0                   8.0  0.99534       0.73     11.4  \n",
       "838                   9.0                  28.0  0.99672       0.83     11.2  \n",
       "\n",
       "[408 rows x 9 columns]"
      ]
     },
     "execution_count": 40,
     "metadata": {},
     "output_type": "execute_result"
    }
   ],
   "source": [
    "# overview of the features matrix choosen by the Gradient Boosting method``\n",
    "X_test[feat2]"
   ]
  },
  {
   "cell_type": "code",
   "execution_count": 41,
   "metadata": {},
   "outputs": [
    {
     "name": "stdout",
     "output_type": "stream",
     "text": [
      "Logistic Regression best parameters :\n",
      " {'C': 10000.0, 'penalty': 'l2', 'solver': 'lbfgs'}\n",
      "====================================================================================================\n",
      "Logistic Regression final model :\n",
      " LogisticRegression(C=10000.0)\n",
      "====================================================================================================\n",
      "Fitting to the train set : 0.868\n",
      "====================================================================================================\n",
      "Final model Accuracy : 0.890\n",
      "====================================================================================================\n",
      "Base model accuracy : 0.868\n",
      "====================================================================================================\n",
      "Classification report : \n",
      "              precision    recall  f1-score   support\n",
      "\n",
      "           0      0.908     0.972     0.939       354\n",
      "           1      0.655     0.352     0.458        54\n",
      "\n",
      "    accuracy                          0.890       408\n",
      "   macro avg      0.781     0.662     0.698       408\n",
      "weighted avg      0.874     0.890     0.875       408\n",
      "\n",
      "====================================================================================================\n",
      "Confusion matrix : \n"
     ]
    },
    {
     "data": {
      "image/png": "[encoded data removed]",
      "text/plain": [
       "<Figure size 432x288 with 2 Axes>"
      ]
     },
     "metadata": {
      "needs_background": "light"
     },
     "output_type": "display_data"
    }
   ],
   "source": [
    "print('Logistic Regression best parameters :\\n', best_logreg_grid.best_params_)\n",
    "best_logreg_model = best_logreg_grid.best_estimator_\n",
    "print(\"=\"*100)\n",
    "print(\"Logistic Regression final model :\\n\", best_logreg_model)\n",
    "print(\"=\"*100)\n",
    "print('Fitting to the train set : {:04.3f}'.format(best_logreg_model.score(X_train[feat2], y_train)))\n",
    "print(\"=\"*100)\n",
    "score_best_logreg = best_logreg_model.score(X_test[feat2], y_test)\n",
    "print('Final model Accuracy : {:04.3f}'.format(score_best_logreg))\n",
    "print(\"=\"*100)\n",
    "score_base_logreg = model_logreg.score(X_test[feat2], y_test)\n",
    "print(\"Base model accuracy : {:04.3f}\".format(score_base_logreg))\n",
    "print(\"=\"*100)\n",
    "print(\"Classification report : \")\n",
    "best_logreg_pred = best_logreg_model.predict(X_test[feat2])\n",
    "print(classification_report(y_test, best_logreg_pred, \n",
    "                            digits=3, zero_division = 1))\n",
    "print(\"=\"*100)\n",
    "print(\"Confusion matrix : \")\n",
    "disp = plot_confusion_matrix(best_logreg_model, X_test[feat2], y_test, cmap='Reds', values_format='d',\n",
    "                            xticks_rotation='vertical')"
   ]
  },
  {
   "cell_type": "code",
   "execution_count": 42,
   "metadata": {},
   "outputs": [
    {
     "data": {
      "image/png": "[encoded data removed]",
      "text/plain": [
       "<Figure size 432x288 with 1 Axes>"
      ]
     },
     "metadata": {
      "needs_background": "light"
     },
     "output_type": "display_data"
    }
   ],
   "source": [
    "plot_roc_curve(best_logreg_model, X_test[feat2], y_test, ax = plt.gca());"
   ]
  },
  {
   "cell_type": "markdown",
   "metadata": {},
   "source": [
    "Comment : As we expected, the `Gradient Bossting (GB)` method have improved the quality of the model :\n",
    "- For the logistic regression, we had `accuracy (logreg) = 88.7%` and the `AUC = 0.89` and now the `accuracy (GB) = 89.0%` proves that the reduction of dimension perfomed with the GB method give a slightly better perdicting output. The model still have the same power of prediction `(AUC (GB) = AUC (logreg) = 0.89)`."
   ]
  },
  {
   "cell_type": "markdown",
   "metadata": {},
   "source": [
    "# 7. PCA <a id = 'sec7'></a>"
   ]
  },
  {
   "cell_type": "markdown",
   "metadata": {},
   "source": [
    "`PCA` is an unsupervised machine learning tool to reduce the dimensionality of the large data set having large numbers of independent variables with collinearity/correlation among themselves. PCA in others terms is used for dimensionality reduction by reducing noise in the given independent variables. The main idea behind PCA is to project the independent features in a lower dimension in such a way that they end up explaining the maximum variance in the given data. The intuition here is not to eliminate but to synthesize a new set of features called `principal components` from the existing set of variables in such a manner that they end up being projected in the direction where there is maximum variance.\n",
    "\n",
    "One important thing to note about PCA is that it is an unsupervised dimensionality reduction technique, you can cluster the similar data points based on the feature correlation between them without any supervision (or labels)."
   ]
  },
  {
   "cell_type": "code",
   "execution_count": 43,
   "metadata": {},
   "outputs": [],
   "source": [
    "X, y = red_wine.drop('quality', axis=1), red_wine.quality"
   ]
  },
  {
   "cell_type": "code",
   "execution_count": 44,
   "metadata": {},
   "outputs": [],
   "source": [
    "def get_models():\n",
    "    models = {}\n",
    "    for i in range(1,12):\n",
    "        steps = [('pca', PCA(n_components=i)), ('m', LogisticRegression())]\n",
    "        models[str(i)] = Pipeline(steps=steps)\n",
    "    return models"
   ]
  },
  {
   "cell_type": "code",
   "execution_count": 45,
   "metadata": {},
   "outputs": [],
   "source": [
    "def evaluate_model(model, X, y):\n",
    "    scores = cross_val_score(model, X, y, scoring='neg_mean_squared_error', cv=10, n_jobs=-1, error_score='raise')\n",
    "    return scores"
   ]
  },
  {
   "cell_type": "code",
   "execution_count": 46,
   "metadata": {},
   "outputs": [
    {
     "name": "stdout",
     "output_type": "stream",
     "text": [
      "> 1 : -0.135\n",
      "> 2 : -0.135\n",
      "> 3 : -0.137\n",
      "> 4 : -0.141\n",
      "> 5 : -0.141\n",
      "> 6 : -0.129\n",
      "> 7 : -0.127\n",
      "> 8 : -0.127\n",
      "> 9 : -0.125\n",
      "> 10 : -0.126\n",
      "> 11 : -0.126\n"
     ]
    },
    {
     "data": {
      "image/png": "[encoded data removed]",
      "text/plain": [
       "<Figure size 432x288 with 1 Axes>"
      ]
     },
     "metadata": {
      "needs_background": "light"
     },
     "output_type": "display_data"
    }
   ],
   "source": [
    "# get the models to evaluate\n",
    "models = get_models()\n",
    "# evaluate the models and store results\n",
    "results, names, res = [], [], []\n",
    "for name, model in models.items():\n",
    "\tscores = evaluate_model(model, X, y)\n",
    "\tresults.append(scores)\n",
    "\tnames.append(name)\n",
    "\tprint('> {} : {:.3f}'.format(name, np.mean(scores)))\n",
    "# plot model performance for comparison\n",
    "for i in range(0, len(results)):\n",
    "    mean_i = results[i].mean()\n",
    "    res.append(mean_i)\n",
    "plt.plot(range(1, 12, 1), res, '-o')\n",
    "plt.xlabel('Components')\n",
    "plt.ylabel('Scores')\n",
    "plt.title('Score vs # of components');"
   ]
  },
  {
   "cell_type": "markdown",
   "metadata": {},
   "source": [
    "Comment : Here we have the maximum of the `negative mean squared error (-0.125)` for a total of nine components. Unfortunately we cannot really specify the features because the PCA is a projection of the features dataset and the capture of the essence of the data so the labels are no provided."
   ]
  },
  {
   "cell_type": "markdown",
   "metadata": {},
   "source": [
    "## Logistic Regression"
   ]
  },
  {
   "cell_type": "code",
   "execution_count": 47,
   "metadata": {},
   "outputs": [],
   "source": [
    "# pipeline engineering and specifying a PCA with 9 components\n",
    "pipeline = Pipeline([\n",
    "    ('scaler', StandardScaler()),\n",
    "    ('pca', PCA(n_components=9)),\n",
    "    ('model', LogisticRegression())\n",
    "])"
   ]
  },
  {
   "cell_type": "code",
   "execution_count": 48,
   "metadata": {},
   "outputs": [],
   "source": [
    "params = {\n",
    "    'model__penalty' : ['l1', 'l2'], \n",
    "    'model__C' : np.logspace(-4, 4, 5), \n",
    "    'model__solver': ['newton-cg','sag', 'lbfgs']\n",
    "    }"
   ]
  },
  {
   "cell_type": "code",
   "execution_count": null,
   "metadata": {},
   "outputs": [],
   "source": [
    "# cross validation and trainning\n",
    "search = GridSearchCV(estimator=pipeline, param_grid=params, cv=10, scoring='neg_mean_squared_error', verbose=1)\n",
    "search.fit(X_train, y_train)"
   ]
  },
  {
   "cell_type": "code",
   "execution_count": 50,
   "metadata": {},
   "outputs": [
    {
     "name": "stdout",
     "output_type": "stream",
     "text": [
      "Logistic Regression best parameters :\n",
      " {'model__C': 1.0, 'model__penalty': 'l2', 'model__solver': 'newton-cg'}\n",
      "==============================================================================\n",
      "Logistic Regression final model :\n",
      " Pipeline(steps=[('scaler', StandardScaler()), ('pca', PCA(n_components=9)),\n",
      "                ('model', LogisticRegression(solver='newton-cg'))])\n",
      "==============================================================================\n",
      "Fitting to the train set : 0.872\n",
      "==============================================================================\n",
      "Final model Accuracy : 0.885\n",
      "==============================================================================\n",
      "Classification report : \n",
      "              precision    recall  f1-score   support\n",
      "\n",
      "           0      0.912     0.960     0.935       354\n",
      "           1      0.600     0.389     0.472        54\n",
      "\n",
      "    accuracy                          0.885       408\n",
      "   macro avg      0.756     0.675     0.704       408\n",
      "weighted avg      0.870     0.885     0.874       408\n",
      "\n",
      "==============================================================================\n",
      "Confusion matrix : \n"
     ]
    },
    {
     "data": {
      "image/png": "[encoded data removed]",
      "text/plain": [
       "<Figure size 432x288 with 2 Axes>"
      ]
     },
     "metadata": {
      "needs_background": "light"
     },
     "output_type": "display_data"
    }
   ],
   "source": [
    "print('Logistic Regression best parameters :\\n', search.best_params_)\n",
    "best_logreg_model = search.best_estimator_\n",
    "print(\"==============================================================================\")\n",
    "print(\"Logistic Regression final model :\\n\", best_logreg_model)\n",
    "print(\"==============================================================================\")\n",
    "print('Fitting to the train set : {:04.3f}'.format(best_logreg_model.score(X_train, y_train)))\n",
    "print(\"==============================================================================\")\n",
    "score_best_logreg = best_logreg_model.score(X_test, y_test)\n",
    "print('Final model Accuracy : {:04.3f}'.format(score_best_logreg))\n",
    "print(\"==============================================================================\")\n",
    "print(\"Classification report : \")\n",
    "best_logreg_pred = best_logreg_model.predict(X_test)\n",
    "print(classification_report(y_test, best_logreg_pred, \n",
    "                            digits=3, zero_division = 1))\n",
    "print(\"==============================================================================\")\n",
    "print(\"Confusion matrix : \")\n",
    "disp = plot_confusion_matrix(best_logreg_model, X_test, y_test, cmap='Reds', values_format='d',\n",
    "                            xticks_rotation='vertical')"
   ]
  },
  {
   "cell_type": "code",
   "execution_count": 51,
   "metadata": {},
   "outputs": [
    {
     "data": {
      "image/png": "[encoded data removed]",
      "text/plain": [
       "<Figure size 432x288 with 1 Axes>"
      ]
     },
     "metadata": {
      "needs_background": "light"
     },
     "output_type": "display_data"
    }
   ],
   "source": [
    "plot_roc_curve(best_logreg_model, X_test, y_test, ax = plt.gca());"
   ]
  },
  {
   "cell_type": "markdown",
   "metadata": {},
   "source": [
    "Comment : The `Principal Components Analysis (PCA)` method have produced a slightly less performing model :\n",
    "- For the base logistic regression, we had `accuracy (logreg) = 88.7%` and the `AUC (logreg)= 0.89` and now the `accuracy (PCA) = 88.5%`. We can see that there is a difference of `0.2%` in the accuracy and since the `AUC (PCA) = 0.89` is still the same as `logreg` we can say that this is not a big problem as our level in this report."
   ]
  },
  {
   "cell_type": "markdown",
   "metadata": {},
   "source": [
    "# 8. Findings <a id = 'sec8'></a>"
   ]
  },
  {
   "cell_type": "markdown",
   "metadata": {},
   "source": [
    "We found that the three methods `(Lasso, Gradient Boosting, Principal Components Analysis)` that we used have the same power of prediction `(AUC = 0.89)` as the `base logistic model (logreg)` performed as a benchmark to compare the models performances. Given that the distribution of the target `(quality)`is unbalanced `(Bad : 86%, Good : 14%)` The differences between the three methods is more reflated in the accuracy metric (because they have hte same power of prediction `AUC = 0.89`) so we have to break it down to have a better understanding of the matter :\n",
    "- For the Lasso method, the quality of the model is improved as the accuracy comparison proves it : `88.7% for logreg versus 89.5% for lasso`. The confusion matrix shows also that we have an `precision of 70%` in the prediction of the minority class. This method dropped the features : `('free sulfur dioxide'` and `'pH')`.\n",
    "- We can make the same conclusion as before for the Gradient Boosting (GB) strategy because the accuracy is improved : `88.7% for logreg versus 89.0% for GB` and this method dropped `'residual sugar'` and `pH`. As for the confusion matrix, we have seen that it presents a `precision of 65.5%` in predicting the minority class.\n",
    "- As for the Pricipal Components Analysis (PCA), the accuracy slightly dropped : `88.7% for logreg versus 88.5% for PCA`. We also conclude with this strategy specifies that nine components is enough to capture the essence of the information contained in the original dataset and this method  we have `60% precision` in the prediction of the minority class."
   ]
  },
  {
   "cell_type": "markdown",
   "metadata": {},
   "source": [
    "# 9. Sources <a id = \"sec9\"></a>"
   ]
  },
  {
   "cell_type": "markdown",
   "metadata": {},
   "source": [
    "- Lasso Regression in Python : https://bit.ly/3sgZO2E\n",
    "- Lasso and Ridge Regression in R : https://bit.ly/3sihr1N\n",
    "- Feature Selection by Lasso and Ridge Regression : https://bit.ly/3sh1WXX\n",
    "- Feature selection : https://scikit-learn.org/stable/modules/feature_selection.html\n",
    "- Principal Component Analysis for Dimensionality Reduction in Python : https://bit.ly/331aHwY\n",
    "- Features selection for machine learning : https://bit.ly/3GqsoDB\n",
    "- gridsearchcv with multiple models Code Example : https://bit.ly/3sh11qI\n",
    "- Model Selection Using Grid Search : https://bit.ly/3seeTlA\n",
    "- Understanding AUC - ROC Curve :  https://bit.ly/34dyXfP\n",
    "- A Gentle Introduction to the Gradient Boosting Algorithm for Machine Learning : https://bit.ly/3gDqw05"
   ]
  }
 ],
 "metadata": {
  "kernelspec": {
   "display_name": "Python 3",
   "language": "python",
   "name": "python3"
  },
  "language_info": {
   "codemirror_mode": {
    "name": "ipython",
    "version": 3
   },
   "file_extension": ".py",
   "mimetype": "text/x-python",
   "name": "python",
   "nbconvert_exporter": "python",
   "pygments_lexer": "ipython3",
   "version": "3.8.8"
  }
 },
 "nbformat": 4,
 "nbformat_minor": 4
}
